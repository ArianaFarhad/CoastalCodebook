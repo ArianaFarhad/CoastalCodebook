{
 "cells": [
  {
   "cell_type": "markdown",
   "metadata": {},
   "source": [
    "# Coastal Systems Notebook 3 (week 9): Escoffier curve\n",
    "\n",
    "In chapter 9 of the book and slides, we learned about tidal inlets and their stability. Tidal inlets are very dynamic and their stability depend on a lot of factors. Escoffier was the first to study the stability of tidal inlets. More specifically, he studied the cross-sectional area of tidal inlets as they change throughout the tidal cycle. From his studies, Escoffier developed the now well-known Escoffier curve. In this notebook we will use an interactive approach to better understand the Escoffier curve. Afterwards you are tasked to answer some questions to verify your knowledge on the topic.\n",
    "\n",
    "Before starting this notebook, make sure you followed the lectures on chapter 9 (or read the slides) and read section 9.5.1 of the book. Also, run the code below to import and check the necessary packages."
   ]
  },
  {
   "cell_type": "code",
   "execution_count": 1,
   "metadata": {},
   "outputs": [],
   "source": [
    "import numpy as np\n",
    "import matplotlib.pyplot as plt\n",
    "from ipywidgets import interact, interactive, fixed, interact_manual\n",
    "import ipywidgets as widgets"
   ]
  },
  {
   "cell_type": "markdown",
   "metadata": {},
   "source": [
    "## 1. Creating an Escoffier curve\n",
    "\n",
    "Escoffier’s curve is a so-called closure curve and describes the relationship between maximum channel velocity $u_e$ and the parameter $X$, which is primarily, but not solely, a function of the channel cross-section. If we consider a sinusoidal tidal velocity signal:\n",
    "\n",
    "$$\n",
    "\\begin{aligned}\n",
    "u_e = \\hat{u}_e = \\frac{\\pi P}{A_e T}\n",
    "\\end{aligned}\n",
    "$$\n",
    "\n",
    "Where $\\hat{u}_e$ is the tidal signal amplitude, $P$ the tidal prism, $A_e$ the channel cross-section and $T$ the tidal period (see Intermezzo 9.4 of the book, equation 9.5).\n",
    "\n",
    "\n",
    "The process that leads to the Escoffier curve is explained in the book. In this notebook we provide a short visualisation, see the interactive plot below. We start with an imaginary channel cross-section that is very small, close to point A, such that the tidal difference in the estuary is smaller than the tidal range. Increasing the cross-section ($A_e$) results in an increase of the tidal prism ($P$) so large that $u_e$ increases too (recall eq. 9.5). At some point the tidal difference in the estuary is equal to the tidal range and we reach the peak of the closure curve. A larger cross-section now reduces $u_e$ as $P$ remains constant (again, recall eq. 9.5)."
   ]
  },
  {
   "attachments": {},
   "cell_type": "markdown",
   "metadata": {},
   "source": [
    "```\n",
    "=> @DANIEL: Please insert the interactive plot in the codeblock below. You can find the figures necessary in the folder of this assignment. The idea is to simply display a figure using a slider widget. So in essence you shouldn't have to code anything to create the graphs of the figure, just display the right image when the slider is moved. I suggest to use ipywidgets, see https://github.com/jupyter-widgets/ipywidgets#readme. Importing the package is done above.\n",
    "```\n",
    "=> **Where can the images be found?**"
   ]
  },
  {
   "cell_type": "code",
   "execution_count": 2,
   "metadata": {},
   "outputs": [],
   "source": [
    "# @DANIEL: this is the codeblock for the interactive plot"
   ]
  },
  {
   "attachments": {},
   "cell_type": "markdown",
   "metadata": {},
   "source": [
    "The next step is to determine an equilibrium channel velocity $u_{eq}$ below which no erosion of the channel occurs. This velocity is only slightly dependent on the cross-section and can be approximated as just a function of sediment size. Larger sediment size leads to a larger $u_{eq}$ and vice versa.\n",
    "\n",
    "The closure curve and a value for u_eq leads to the well-known Escoffier curve as depicted in Figure 9.22 in the book.\n",
    "\n",
    "```\n",
    "=> @DANIEL: Insert image \"Escoffier_curve_typical.png\"\n",
    "```\n"
   ]
  },
  {
   "cell_type": "markdown",
   "metadata": {},
   "source": [
    "## 2. Questions\n",
    "\n",
    "Now that you know how an Escoffier curve is created and some of the physical processes behind it, it's time to test your understanding. Try to answer the questions below and give your answers in the corresponding codeblock. Run the codeblock to validate your answers and view your feedback."
   ]
  },
  {
   "attachments": {},
   "cell_type": "markdown",
   "metadata": {},
   "source": [
    "### Channel stability\n",
    "\n",
    "Consider the Escoffier curve below with points A, B, C, D and E. What happens to the channel cross-section ($X$) at locations 1, 2, 3, 4 and 5? Where does it move to, point A, B, C, D, E or neither (N)? ):\n",
    "```\n",
    "=> @DANIEL: Insert image \"Escoffier_curve_Qstability.png\"\n",
    "```\n",
    "\n",
    "=> **Is there an image showing which are the locations?**\n",
    "\n",
    "![](9_diagram_channel-velocity-geometry-relationship-autoconversie-300dpi-transparent-1.png)"
   ]
  },
  {
   "cell_type": "markdown",
   "metadata": {},
   "source": [
    "Put your answers here:\n",
    "\n",
    "```\n",
    "=> @DANIEL: Can you code the processing of the answers? Students give their answers below and run the block. Depending on their answer (correct or incorrect) they get to see a message. If correct something like \"That is correct!\". If incorrect each question should have some specific feedback, or if we want more detailed feedback each incorrect answer has some specific feedback. Feedback text is provided at the bottom of the notebook.\n",
    "```"
   ]
  },
  {
   "cell_type": "code",
   "execution_count": 3,
   "metadata": {},
   "outputs": [],
   "source": [
    "ans0 = 'N'  # Example answer\n",
    "\n",
    "ans1 = 'A'  # Your answer for point 1\n",
    "ans2 = 'A'  # Your answer for point 2\n",
    "ans3 = 'A'  # Your answer for point 3\n",
    "ans4 = 'A'  # Your answer for point 4\n",
    "ans5 = 'A'  # Your answer for point 5\n",
    "\n",
    "#Check1(ans1,ans2,ans3,ans4,ans5) # Example function to run to validate answers"
   ]
  },
  {
   "cell_type": "markdown",
   "metadata": {},
   "source": [
    "### Escoffier curve \"types\"\n",
    "\n",
    "Below three Escoffier curves are shown. So far we have only considered the scenario where $u_{eq}$ is lower than point C (scenario I). However, two other scenarios can also exist: II where point C coincides with $u_{eq}$ and III where point C is below $u_{eq}$. Similar to the previous question, what happens now at locations 1 and 2 for scenarios II and III?\n",
    "```\n",
    "=> @DANIEL: Insert image \"Escoffier_curve_Qtypes.png\"\n",
    "```"
   ]
  },
  {
   "cell_type": "markdown",
   "metadata": {},
   "source": [
    "Put your answers here:"
   ]
  },
  {
   "cell_type": "code",
   "execution_count": 4,
   "metadata": {},
   "outputs": [],
   "source": [
    "ansII_1  = 'A'  # Your answer for point 1 scenario II\n",
    "ansII_2  = 'A'  # Your answer for point 2 scenario II\n",
    "ansIII_1 = 'A'  # Your answer for point 1 scenario III\n",
    "ansIII_2 = 'A'  # Your answer for point 2 scenario III\n",
    "\n",
    "#Check2(ansII_1,ansII_2,ansIII_1,ansIII_2) # Example function to run to validate answers"
   ]
  },
  {
   "cell_type": "markdown",
   "metadata": {},
   "source": [
    "### Theory\n",
    "\n",
    "Answer the questions below and explain your reasoning.\n",
    "1. What would happen if $X$ becomes really large?\n",
    "2. Can $X$ go to inifinity?\n",
    "3. How can you modify the Escoffier curve through engineering?\n",
    "4. Can the (closure) curve vary in Time?"
   ]
  },
  {
   "cell_type": "code",
   "execution_count": 5,
   "metadata": {},
   "outputs": [],
   "source": [
    "#Check3() # Example function to run to validate answers"
   ]
  },
  {
   "cell_type": "code",
   "execution_count": null,
   "metadata": {},
   "outputs": [],
   "source": []
  },
  {
   "cell_type": "code",
   "execution_count": 16,
   "metadata": {},
   "outputs": [
    {
     "name": "stdout",
     "output_type": "stream",
     "text": [
      "Answer 1: \t Ops! The answer is incorrect.\n",
      "Answer 2: \t Well done!\n",
      "Answer 3: \t Ops! The answer is incorrect.\n",
      "Answer 4: \t Ops! The answer is incorrect.\n",
      "Answer 5: \t Ops! The answer is incorrect.\n"
     ]
    }
   ],
   "source": [
    "Check1('C','A','H','D','E')"
   ]
  },
  {
   "cell_type": "code",
   "execution_count": 15,
   "metadata": {
    "tags": [
     "remove-cell"
    ]
   },
   "outputs": [],
   "source": [
    "#This is a test cell that should not be displayed because it has the tag \"remove-cell\".\n",
    "#\n",
    "#@DANIEL: Put your code for the questions here\n",
    "\n",
    "# Function for cheking the first exercise:\n",
    "def Check1(ans1,ans2,ans3,ans4,ans5):\n",
    "    # Checking answer 1:\n",
    "    if ans1=='A': print('Answer 1: \\t Well done!')\n",
    "    if ans1!='A': print('Answer 1: \\t Ops! The answer is incorrect.')\n",
    "    \n",
    "    # Checking answer 2:\n",
    "    if ans2=='A': print('Answer 2: \\t Well done!')\n",
    "    if ans2!='A': print('Answer 2: \\t Ops! The answer is incorrect.')\n",
    "    \n",
    "    # Checking answer 3:\n",
    "    if ans3=='A': print('Answer 3: \\t Well done!')\n",
    "    if ans3!='A': print('Answer 3: \\t Ops! The answer is incorrect.')\n",
    "    \n",
    "    # Checking answer 4:\n",
    "    if ans4=='A': print('Answer 4: \\t Well done!')\n",
    "    if ans4!='A': print('Answer 4: \\t Ops! The answer is incorrect.')\n",
    "    \n",
    "    # Checking answer 5:\n",
    "    if ans5=='A': print('Answer 5: \\t Well done!')\n",
    "    if ans5!='A': print('Answer 5: \\t Ops! The answer is incorrect.')\n",
    "    \n",
    "\n"
   ]
  }
 ],
 "metadata": {
  "kernelspec": {
   "display_name": "geo",
   "language": "python",
   "name": "python3"
  },
  "language_info": {
   "codemirror_mode": {
    "name": "ipython",
    "version": 3
   },
   "file_extension": ".py",
   "mimetype": "text/x-python",
   "name": "python",
   "nbconvert_exporter": "python",
   "pygments_lexer": "ipython3",
   "version": "3.10.8"
  },
  "vscode": {
   "interpreter": {
    "hash": "552d26e24a5f022569f992dc6162a1ddcd276bc02983bfb314c82a5eb02cca6e"
   }
  },
  "widgets": {
   "application/vnd.jupyter.widget-state+json": {
    "state": {},
    "version_major": 2,
    "version_minor": 0
   }
  }
 },
 "nbformat": 4,
 "nbformat_minor": 4
}
