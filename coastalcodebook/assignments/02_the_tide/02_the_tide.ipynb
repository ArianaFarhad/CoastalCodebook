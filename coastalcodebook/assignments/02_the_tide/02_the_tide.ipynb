{
 "cells": [
  {
   "cell_type": "markdown",
   "metadata": {},
   "source": [
    "# Coastal Systems Notebook 2 (week 3): The Tide\n",
    "\n",
    "In chapter 3 of the book and slides, we learned that the tide is generated through the interplay between gravitational attraction forces in the Earth-Moon and Earth-Sun systems respectively. In this notebook we will explore these concepts in a more interactive way, with some exercises, visualizations, and code. We will not repeat the whole theory, however, so make sure you have followed the lectures for this week and read the relevant pages in chapter 3 of the book."
   ]
  },
  {
   "cell_type": "markdown",
   "metadata": {},
   "source": [
    "We will explore the different aspects of teh tide through this Jupyter notebook and use python to create figures, make computations, and analyse data. So, please make sure you activate the coastal environment before running the notebook. Then run the cell below, where we import the packages used in this notebook."
   ]
  },
  {
   "cell_type": "code",
   "execution_count": null,
   "metadata": {},
   "outputs": [],
   "source": [
    "import numpy as np\n",
    "import pandas as pd\n",
    "import matplotlib.pyplot as plt"
   ]
  },
  {
   "cell_type": "markdown",
   "metadata": {},
   "source": [
    "## 1. Generation of the tide\n",
    "\n",
    "First we will have a look at the generation of the tide. To start, we are gonna look at the gravitational forces between the earth, moon, and sun. "
   ]
  },
  {
   "cell_type": "code",
   "execution_count": null,
   "metadata": {},
   "outputs": [],
   "source": [
    "### Functions\n",
    "def grav_pull(m1, m2, d):\n",
    "    \"\"\"\n",
    "    This function calculates the attraction force between two celestial bodies using Newton's law of universal gravitation.\n",
    "\n",
    "    Parameters:\n",
    "    m1 (float): mass of the first body in kg.\n",
    "    m2 (float): mass of the second body in kg.\n",
    "    r (float): distance between the two bodies in meters.\n",
    "\n",
    "    Returns:\n",
    "    float: the attraction force between the two bodies in Newton (N)\n",
    "\n",
    "    \"\"\"\n",
    "    G = 6.67408e-11  # universal gravitational constant\n",
    "    g = 9.81         # gravitational acceleration on the Earth\n",
    "    force = G * (m1 * m2) / d**2 / g # here we divide by g, so we get the gravitational pull in terms of g\n",
    "    return force"
   ]
  },
  {
   "cell_type": "markdown",
   "metadata": {},
   "source": [
    "The above function computes the gravitational pull between two celestial bodies. We can now use it to compute the forces between the earth and the sun/moon. Find the required values and fill them in below and then run the function, which will show you the forces."
   ]
  },
  {
   "cell_type": "code",
   "execution_count": null,
   "metadata": {},
   "outputs": [],
   "source": [
    "m_earth = 1         # mass of the earth in kg (we use 1 to compute the gravitational pull on 1kg of earth mass)\n",
    "m_sun   = 1.99e30   # mass of the sun in kg\n",
    "m_moon  = 7.35e22   # mass of the moon in kg\n",
    "d_sun   = 1.5e11    # distance between the centers of the sun and earth in meters\n",
    "d_moon  = 3.84e8    # distance between the centers of the moon and earth in meters\n",
    "r       = 6.37e6    # radius of the Earth in meters\n",
    "\n",
    "# Now we compute the forces and print them\n",
    "f_es = grav_pull(m_earth, m_sun, d_sun)\n",
    "f_em = grav_pull(m_earth, m_moon, d_moon)\n",
    "\n",
    "print(\"Attraction force between the centers of Earth and Sun:  %.2E g\"%f_es)\n",
    "print(\"Attraction force between the centers of Earth and Moon: %.2E g\"%f_em)"
   ]
  },
  {
   "cell_type": "markdown",
   "metadata": {},
   "source": [
    "As we can see, the gravitational pull of the sun is about two orders of magnitude larger than that of the moon, and both are much smaller than g. Yet, we know that these forces are somehow responsible for tidal ranges of multiple meters, and that the moon is actually responsible for about 70% of these tides. How come?"
   ]
  },
  {
   "cell_type": "code",
   "execution_count": null,
   "metadata": {},
   "outputs": [],
   "source": []
  },
  {
   "cell_type": "markdown",
   "metadata": {},
   "source": [
    "..."
   ]
  },
  {
   "cell_type": "markdown",
   "metadata": {},
   "source": [
    "## 2. Tidal constituents\n",
    "\n",
    "The tidal signal can be broken down into multiple harmonic tidal constituents. These can either be diurnal, semi-diurnal, or longer-period constituents. Each constituent is characterized by an amplitude, frequency and phase, and individually looks like a sin/cosine curve. When we sum up the various components however, we get complex tidal signals, with spring-neap cycles, daily inequalities, and longer-term variations. Below we will compute the tidal signal at four different locations around the World: Scheveningen (Netherlands), Rio de Janeiro (Brazil), Galveston (Texas USA), and Jakarta (Indonesia). To do this, we will use six harmonic components: M2, S2, K1, O1, M4, and Mf. Section 3.7.6. in the book gives some more information on each constituents."
   ]
  },
  {
   "cell_type": "code",
   "execution_count": null,
   "metadata": {},
   "outputs": [],
   "source": [
    "### Functions\n",
    "def harmonic(a, phi, f, t):\n",
    "    \"\"\"\n",
    "    This function calculates the value of a harmonic function at a given time t.\n",
    "\n",
    "    Parameters:\n",
    "    a (float): amplitude of the harmonic function.\n",
    "    phi (float): phase angle of the harmonic function.\n",
    "    f (float): frequency of the harmonic function.\n",
    "    t (float): time at which the function is evaluated.\n",
    "\n",
    "    Returns:\n",
    "    float: the value of the harmonic function at the given time.\n",
    "    \"\"\"\n",
    "    return a * np.cos(f*t-phi)\n"
   ]
  },
  {
   "cell_type": "code",
   "execution_count": null,
   "metadata": {},
   "outputs": [],
   "source": [
    "# Time window for which we will compute the tidal components\n",
    "t = np.linspace(0,338,1000)\n",
    "\n",
    "\n",
    "\n",
    "# Tidal components and their angular frequencies (numer to the right is the period in hours)\n",
    "# Comment / uncomment to select the contituents that are plotted\n",
    "comps = {\n",
    "    'm2'    :   2*np.pi / 12.42,    # Principal lunar semidiurnal\n",
    "    's2'    :   2*np.pi / 12,       # Principal solar semidiurnal\n",
    "    'k1'    :   2*np.pi / 23.93,    # Lunar-solar declinational diurnal\n",
    "    'o1'    :   2*np.pi / 25.82,    # Principal lunar diurnal\n",
    "    'm4'    :   2*np.pi / 6.21,     # First shallow water lunar overtide\n",
    "    'mf'    :   2*np.pi / 327.9,    # Lunisolar fortnightly period\n",
    "}\n",
    "\n",
    "# First we load the data (tidal constituents) into a dictionary so that we have one dataframe for each constituent (M2, S2, ...)\n",
    "tide = {}\n",
    "for comp in comps.keys():\n",
    "    tide[comp] = pd.read_pickle('data/%s.p'%comp)\n",
    "\n",
    "# Locations that we will plot\n",
    "locs = ['Scheveningen', 'Rio de Janeiro', 'Galveston', 'Jakarta']\n",
    "\n",
    "# Now we plot for each location a plot with the individual components and a plot for the total tidal water level\n",
    "fig, axs = plt.subplots(4,2, sharex=True, figsize=(15,8))\n",
    "ax = axs.flatten()\n",
    "\n",
    "for i,j in zip(range(len(locs)), [0,1,4,5]):\n",
    "    harms = {}\n",
    "    for comp in comps.keys():\n",
    "        # Store data for current component in temporary numpy array\n",
    "        temp = tide[comp][tide[comp].index == locs[i].lower()].to_numpy()[0]\n",
    "\n",
    "        # Use harmonic() to compute each harmonic constituent\n",
    "        harms[comp] = harmonic(temp[3], temp[2], comps[comp], t)            \n",
    "\n",
    "        # Plot each individual constituent in the upper subplot  \n",
    "        ax[j].plot(t,harms[comp], '-', linewidth=1)\n",
    "\n",
    "    # Plot the sum of the selected constituents in the lower subplot\n",
    "    ax[j+2].plot(t,sum([harms[comp] for comp in comps.keys()]),'k')\n",
    "\n",
    "    # Axis settings\n",
    "    ax[j].set_xlim(t[0],t[-1])\n",
    "    # ax[i].set_ylim(-2,2)\n",
    "    ax[j].set_title(locs[i])\n",
    "\n",
    "ax[6].set_xlabel('Time [h]')\n",
    "ax[2].set_ylabel('Tidal elevation [cm]')\n",
    "\n",
    "plt.tight_layout()"
   ]
  },
  {
   "cell_type": "markdown",
   "metadata": {},
   "source": [
    "As you can see, the different components all interact with each other to form complex time varying tidal signals, which can be very different around the globe. In the example above we included six tidal constituents. However, the most advanced tidal models currently predict tides using up to 34 different tidal constituents. The figure below shows an example of the total tidal signal in Galveston, from the FES2014 tidal model, using 34 constituents. Can you see strong differences with the signal we compute for Galveston above?"
   ]
  },
  {
   "cell_type": "markdown",
   "metadata": {},
   "source": [
    "![tide_galveston](fes_tide_prediction_sep_dec_2023.png)"
   ]
  },
  {
   "cell_type": "markdown",
   "metadata": {},
   "source": [
    "## 3. Propagation of the tide\n",
    "\n",
    "..."
   ]
  },
  {
   "cell_type": "markdown",
   "metadata": {},
   "source": [
    "### Backend\n",
    "\n",
    "The following is not part of the student notebook but of the backend for developing the NB"
   ]
  },
  {
   "cell_type": "code",
   "execution_count": null,
   "metadata": {},
   "outputs": [],
   "source": [
    "### DATA\n",
    "import xarray as xr\n",
    "from os.path import join\n",
    "\n",
    "path = '/Users/jakobchristiaa/Documents/TU Delft/PhD Turtle Beaches/git_repos/aviso-fes/data/fes2014/ocean_tide_extrapolated'\n",
    "comps = ['m2', 's2', 'm4', 'o1', 'k1', 'mf']\n",
    "locs = {\n",
    "    'scheveningen'  :   [52.125, 4.25], #lat, lon\n",
    "    'cardiff'       :   [51.5, -3.125],\n",
    "    'rio de janeiro':   [-23, -43.125],\n",
    "    'galveston'     :   [29.25, -94.6875],\n",
    "    'jakarta'       :   [-5.8125, 106.8125],\n",
    "}\n",
    "\n",
    "tide = {}\n",
    "\n",
    "# Extract constituents from FES2014 and store pickle files\n",
    "for comp in comps:\n",
    "    data = xr.open_dataset(join(path, comp + '.nc'))\n",
    "    data.coords['lon'] = (data.coords['lon'] + 180) % 360 - 180\n",
    "    \n",
    "    # tide[comp] = pd.DataFrame(columns=)\n",
    "    temp = {}\n",
    "\n",
    "    for loc in locs.keys():\n",
    "        temp[loc] = (data.sel(lat=locs[loc][0],lon=locs[loc][1])\n",
    "        .to_dataframe()\n",
    "        .drop(['lat_bnds', 'lon_bnds', 'crs'], axis=1)\n",
    "        .drop(1)\n",
    "        .assign(place=loc)\n",
    "        .set_index('place', drop=True)\n",
    "    )\n",
    "\n",
    "    tide[comp] = pd.concat(temp.values())\n",
    "    tide[comp].to_pickle('data/%s.p'%comp)"
   ]
  }
 ],
 "metadata": {
  "kernelspec": {
   "display_name": "Python [conda env:coastal]",
   "language": "python",
   "name": "conda-env-coastal-py"
  },
  "language_info": {
   "codemirror_mode": {
    "name": "ipython",
    "version": 3
   },
   "file_extension": ".py",
   "mimetype": "text/x-python",
   "name": "python",
   "nbconvert_exporter": "python",
   "pygments_lexer": "ipython3",
   "version": "3.10.8"
  },
  "vscode": {
   "interpreter": {
    "hash": "c6737bd8f99d83243aad1fcf161035ff3a42d7dc5e7fc6b52402807c327bcf3f"
   }
  },
  "widgets": {
   "application/vnd.jupyter.widget-state+json": {
    "state": {},
    "version_major": 2,
    "version_minor": 0
   }
  }
 },
 "nbformat": 4,
 "nbformat_minor": 4
}
