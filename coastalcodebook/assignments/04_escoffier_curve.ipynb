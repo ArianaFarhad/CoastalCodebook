{
 "cells": [
  {
   "cell_type": "markdown",
   "metadata": {},
   "source": [
    "# Coastal Systems Notebook 3 (week 9): Escoffier curve\n",
    "\n",
    "In chapter 9 of the book and slides, we learned about tidal inlets and their stability. Tidal inlets are very dynamic and their stability depend on a lot of factors. Escoffier was the first to study the stability of tidal inlets. More specifically, he studied the cross-sectional area of tidal inlets as they change throughout the tidal cycle. From his studies, Escoffier developed the now well-known Escoffier curve. In this notebook we will use an interactive approach to better understand the Escoffier curve. Afterwards you are tasked to answer some questions to verify your knowledge on the topic.\n",
    "\n",
    "Before starting this notebook, make sure you followed the lectures on chapter 9 (or read the slides) and read section 9.5.1 of the book. Also, run the code below to import and check the necessary packages."
   ]
  },
  {
   "cell_type": "code",
   "execution_count": 1,
   "metadata": {
    "tags": []
   },
   "outputs": [],
   "source": [
    "import os\n",
    "import pathlib\n",
    "import sys\n",
    "\n",
    "# make coastpy library importable by appending root to path\n",
    "cwd = pathlib.Path().resolve()\n",
    "proj_dir = cwd.parent.parent  # this is the root of the CoastalCodeBook\n",
    "sys.path.append(str(proj_dir / \"src\"))"
   ]
  },
  {
   "cell_type": "code",
   "execution_count": 2,
   "metadata": {
    "tags": []
   },
   "outputs": [],
   "source": [
    "import numpy as np\n",
    "import matplotlib.pyplot as plt\n",
    "from ipywidgets import interact, interactive, fixed, interact_manual\n",
    "import ipywidgets as widgets\n",
    "from hidden import *\n",
    "\n",
    "DATA_DIR = proj_dir / \"data\"\n",
    "FIG_DIR = proj_dir / \"coastalcodebook\" / \"assignments\" / \"figures\""
   ]
  },
  {
   "cell_type": "markdown",
   "metadata": {},
   "source": [
    "## 1. Creating an Escoffier curve\n",
    "\n",
    "Escoffier’s curve is a so-called closure curve and describes the relationship between maximum channel velocity $u_e$ and the parameter $X$, which is primarily, but not solely, a function of the channel cross-section. If we consider a sinusoidal tidal velocity signal:\n",
    "\n",
    "$$\n",
    "\\begin{aligned}\n",
    "u_e = \\hat{u}_e = \\frac{\\pi P}{A_e T}\n",
    "\\end{aligned}\n",
    "$$\n",
    "\n",
    "Where $\\hat{u}_e$ is the tidal signal amplitude, $P$ the tidal prism, $A_e$ the channel cross-section and $T$ the tidal period (see Intermezzo 9.4 of the book, equation 9.5).\n",
    "\n",
    "\n",
    "The process that leads to the Escoffier curve is explained in the book. In this notebook we provide a short visualisation, see the interactive plot below. We start with an imaginary channel cross-section that is very small, close to point A, such that the tidal difference in the estuary is smaller than the tidal range. Increasing the cross-section ($A_e$) results in an increase of the tidal prism ($P$) so large that $u_e$ increases too (recall eq. 9.5). At some point the tidal difference in the estuary is equal to the tidal range and we reach the peak of the closure curve. A larger cross-section now reduces $u_e$ as $P$ remains constant (again, recall eq. 9.5)."
   ]
  },
  {
   "cell_type": "code",
   "execution_count": 7,
   "metadata": {
    "tags": []
   },
   "outputs": [
    {
     "data": {
      "application/vnd.jupyter.widget-view+json": {
       "model_id": "e86dc3b6ce2d4d388b9705b648e0482f",
       "version_major": 2,
       "version_minor": 0
      },
      "text/plain": [
       "IntSlider(value=0, max=3)"
      ]
     },
     "metadata": {},
     "output_type": "display_data"
    },
    {
     "data": {
      "application/vnd.jupyter.widget-view+json": {
       "model_id": "8910e5af2426499da2788269dbcc1428",
       "version_major": 2,
       "version_minor": 0
      },
      "text/plain": [
       "Image(value=b'\\x89PNG\\r\\n\\x1a\\n\\x00\\x00\\x00\\rIHDR\\x00\\x00\\x05\\x97\\x00\\x00\\x02 \\x08\\x02\\x00\\x00\\x00v\\xfa\\xc0\\x8…"
      ]
     },
     "metadata": {},
     "output_type": "display_data"
    }
   ],
   "source": [
    "import ipywidgets as widgets\n",
    "from IPython.display import display\n",
    "from PIL import Image\n",
    "\n",
    "# Load the images\n",
    "images = [\n",
    "    Image.open('figures/04_Ch9_Escoffier_interactive_1.png'),\n",
    "    Image.open('figures/04_Ch9_Escoffier_interactive_2.png'),\n",
    "    Image.open('figures/04_Ch9_Escoffier_interactive_3.png'),\n",
    "    Image.open('figures/04_Ch9_Escoffier_interactive_4.png')\n",
    "]\n",
    "\n",
    "# Create the slider widget\n",
    "slider = widgets.IntSlider(min=0, max=len(images)-1, step=1, value=0)\n",
    "\n",
    "# Display the current image\n",
    "image_widget = widgets.Image(value=images[slider.value]._repr_png_(), format='png')\n",
    "\n",
    "# Define the update function\n",
    "def update_image(change):\n",
    "    image_widget.value = images[change.new]._repr_png_()\n",
    "\n",
    "# Attach the update function to the slider\n",
    "slider.observe(update_image, names='value')\n",
    "\n",
    "# Display the widgets\n",
    "display(slider)\n",
    "display(image_widget)"
   ]
  },
  {
   "cell_type": "code",
   "execution_count": null,
   "metadata": {},
   "outputs": [],
   "source": []
  },
  {
   "attachments": {},
   "cell_type": "markdown",
   "metadata": {},
   "source": [
    "The next step is to determine an equilibrium channel velocity $u_{eq}$ below which no erosion of the channel occurs. This velocity is only slightly dependent on the cross-section and can be approximated as just a function of sediment size. Larger sediment size leads to a larger $u_{eq}$ and vice versa.\n",
    "\n",
    "The closure curve and a value for u_eq leads to the well-known Escoffier curve as depicted in Figure 9.22 in the book.\n",
    "\n",
    "\n",
    "![](./figures/04_Ch9_Escoffier_type_1.png)\n"
   ]
  },
  {
   "cell_type": "markdown",
   "metadata": {},
   "source": [
    "## 2. Questions\n",
    "\n",
    "Now that you know how an Escoffier curve is created and some of the physical processes behind it, it's time to test your understanding. Try to answer the questions below and give your answers in the corresponding codeblock. Run the codeblock to validate your answers and view your feedback."
   ]
  },
  {
   "attachments": {},
   "cell_type": "markdown",
   "metadata": {},
   "source": [
    "### Channel stability\n",
    "\n",
    "Consider the Escoffier curve below with points A, B, C, D and E. What happens to the channel cross-section ($X$) at locations 1, 2, 3, 4 and 5? Where does it move to, point A, B, C, D, E or neither (N)? ):\n",
    "\n",
    "![put fig title/label here](./figures/04_Ch9_Escoffier_stability_1.png)"
   ]
  },
  {
   "attachments": {},
   "cell_type": "markdown",
   "metadata": {},
   "source": [
    "Put your answers here:"
   ]
  },
  {
   "cell_type": "code",
   "execution_count": 8,
   "metadata": {
    "nbgrader": {
     "grade": true,
     "grade_id": "cell-01496058bec596fd",
     "locked": true,
     "points": 5,
     "schema_version": 3,
     "solution": false,
     "task": false
    },
    "tags": []
   },
   "outputs": [
    {
     "name": "stdout",
     "output_type": "stream",
     "text": [
      "Answer 1: \t Well done!\n",
      "Answer 2: \t Well done!\n",
      "Answer 3: \t Well done!\n",
      "Answer 4: \t Well done!\n",
      "Answer 5: \t Well done!\n",
      "Nice! You have understood this topic\n"
     ]
    }
   ],
   "source": [
    "ans0 = 'N'  # Example answer\n",
    "\n",
    "ans1 = 'A'  # Your answer for point 1\n",
    "ans2 = 'C'  # Your answer for point 2\n",
    "ans3 = 'D'  # Your answer for point 3\n",
    "ans4 = 'D'  # Your answer for point 4\n",
    "ans5 = 'D'  # Your answer for point 5\n",
    "\n",
    "Check1(ans1,ans2,ans3,ans4,ans5) # Example function to run to validate answers"
   ]
  },
  {
   "attachments": {},
   "cell_type": "markdown",
   "metadata": {},
   "source": [
    "### Escoffier curve \"types\"\n",
    "\n",
    "Below three Escoffier curves are shown. So far we have only considered the scenario where $u_{eq}$ is lower than point C (scenario I). However, two other scenarios can also exist: II where point C coincides with $u_{eq}$ and III where point C is below $u_{eq}$. Similar to the previous question, what happens now at locations 1 and 2 for scenarios II and III?\n",
    "\n",
    "![](./figures/04_Ch9_Escoffier_type_1.png)\n",
    "\n",
    "![](./figures/04_Ch9_Escoffier_type_2.png)\n",
    "\n",
    "![](./figures/04_Ch9_Escoffier_type_3.png)"
   ]
  },
  {
   "cell_type": "markdown",
   "metadata": {},
   "source": [
    "Put your answers here:"
   ]
  },
  {
   "cell_type": "code",
   "execution_count": 3,
   "metadata": {
    "tags": []
   },
   "outputs": [
    {
     "name": "stdout",
     "output_type": "stream",
     "text": [
      "Answer 1: \t Ops! The answer is incorrect.\n",
      "Answer 2: \t Ops! The answer is incorrect.\n",
      "Answer 3: \t Ops! The answer is incorrect.\n",
      "Answer 4: \t Ops! The answer is incorrect.\n",
      "Mmm... I think you should check the section about this topic again.\n"
     ]
    }
   ],
   "source": [
    "ansII_1  = 'C'  # Your answer for point 1 scenario II\n",
    "ansII_2  = 'A'  # Your answer for point 2 scenario II\n",
    "ansIII_1 = 'A'  # Your answer for point 1 scenario III\n",
    "ansIII_2 = 'A'  # Your answer for point 2 scenario III\n",
    "\n",
    "Check2(ansII_1,ansII_2,ansIII_1,ansIII_2) # Example function to run to validate answers"
   ]
  },
  {
   "cell_type": "markdown",
   "metadata": {},
   "source": [
    "### Theory\n",
    "\n",
    "Answer the questions below and explain your reasoning.\n",
    "1. What would happen if $X$ becomes really large?\n",
    "2. Can $X$ go to inifinity?\n",
    "3. How can you modify the Escoffier curve through engineering?\n",
    "4. Can the (closure) curve vary in Time?"
   ]
  },
  {
   "cell_type": "code",
   "execution_count": 9,
   "metadata": {
    "execution": {
     "iopub.execute_input": "2023-02-16T11:00:12.947867Z",
     "iopub.status.busy": "2023-02-16T11:00:12.947465Z",
     "iopub.status.idle": "2023-02-16T11:00:12.951698Z",
     "shell.execute_reply": "2023-02-16T11:00:12.950837Z",
     "shell.execute_reply.started": "2023-02-16T11:00:12.947842Z"
    }
   },
   "outputs": [],
   "source": [
    "#Check3() # Example function to run to validate answers"
   ]
  },
  {
   "cell_type": "code",
   "execution_count": null,
   "metadata": {},
   "outputs": [],
   "source": []
  },
  {
   "cell_type": "code",
   "execution_count": null,
   "metadata": {},
   "outputs": [],
   "source": []
  },
  {
   "cell_type": "markdown",
   "metadata": {},
   "source": [
    "## TODO: \n",
    "\n",
    "Fucntions are now being called before they are defined. You could also consider to \"hide\" them in the source directory and import them using `from hidden` import check1, check2 etc. Where hidden is refers to `CoastalCodeBook/src/hidden.py` I just added this functionality and to hide it a bit more I did an asterix import instead of importing the functions (but this is really bad practice and should be avoided). I think that providing students feedback on their answers should be implementing using [nbgrader](https://github.com/jupyter/nbgrader), which started at the UvA Amsterdam, but is apparently being included in the Jupyter project. "
   ]
  }
 ],
 "metadata": {
  "kernelspec": {
   "display_name": "coastal",
   "language": "python",
   "name": "python3"
  },
  "language_info": {
   "codemirror_mode": {
    "name": "ipython",
    "version": 3
   },
   "file_extension": ".py",
   "mimetype": "text/x-python",
   "name": "python",
   "nbconvert_exporter": "python",
   "pygments_lexer": "ipython3",
   "version": "3.10.8"
  },
  "vscode": {
   "interpreter": {
    "hash": "c4f1a03a2decb15b8959128502e8669e58fcf5cfa6b940068ba2ce59115bdbbc"
   }
  },
  "widgets": {
   "application/vnd.jupyter.widget-state+json": {
    "state": {},
    "version_major": 2,
    "version_minor": 0
   }
  }
 },
 "nbformat": 4,
 "nbformat_minor": 4
}
