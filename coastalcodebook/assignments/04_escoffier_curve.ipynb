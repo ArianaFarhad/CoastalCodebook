{
 "cells": [
  {
   "cell_type": "markdown",
   "metadata": {},
   "source": [
    "# Coastal Systems Notebook 3 (week 9): Escoffier curve\n",
    "\n",
    "In chapter 9 of the book and slides, we learned about tidal inlets and their stability. Tidal inlets are very dynamic and their stability depend on a lot of factors. Escoffier was the first to study the stability of tidal inlets. More specifically, he studied the cross-sectional area of tidal inlets as they change throughout the tidal cycle. From his studies, Escoffier developed the now well-known Escoffier curve. In this notebook we will use an interactive approach to better understand the Escoffier curve. Afterwards you are tasked to answer some questions to verify your knowledge on the topic.\n",
    "\n",
    "Before starting this notebook, make sure you followed the lectures on chapter 9 (or read the slides) and read section 9.5.1 of the book. Also, run the code below to import and check the necessary packages."
   ]
  },
  {
   "cell_type": "code",
   "execution_count": 1,
   "metadata": {
    "tags": []
   },
   "outputs": [],
   "source": [
    "import os\n",
    "import pathlib\n",
    "import sys\n",
    "\n",
    "# make coastpy library importable by appending root to path\n",
    "cwd = pathlib.Path().resolve()\n",
    "proj_dir = cwd.parent.parent  # this is the root of the CoastalCodeBook\n",
    "sys.path.append(str(proj_dir / \"src\"))"
   ]
  },
  {
   "cell_type": "code",
   "execution_count": 2,
   "metadata": {
    "tags": []
   },
   "outputs": [],
   "source": [
    "import numpy as np\n",
    "import matplotlib.pyplot as plt\n",
    "from ipywidgets import interact, interactive, fixed, interact_manual\n",
    "import ipywidgets as widgets\n",
    "from hidden import *\n",
    "\n",
    "DATA_DIR = proj_dir / \"data\"\n",
    "FIG_DIR = proj_dir / \"coastalcodebook\" / \"assignments\" / \"figures\""
   ]
  },
  {
   "cell_type": "markdown",
   "metadata": {},
   "source": [
    "## 1. Creating an Escoffier curve\n",
    "\n",
    "Escoffier’s curve is a so-called closure curve and describes the relationship between maximum channel velocity $u_e$ and the parameter $X$, which is primarily, but not solely, a function of the channel cross-section. If we consider a sinusoidal tidal velocity signal:\n",
    "\n",
    "$$\n",
    "\\begin{aligned}\n",
    "u_e = \\hat{u}_e = \\frac{\\pi P}{A_e T}\n",
    "\\end{aligned}\n",
    "$$\n",
    "\n",
    "Where $\\hat{u}_e$ is the tidal signal amplitude, $P$ the tidal prism, $A_e$ the channel cross-section and $T$ the tidal period (see Intermezzo 9.4 of the book, equation 9.5).\n",
    "\n",
    "\n",
    "The process that leads to the Escoffier curve is explained in the book. In this notebook we provide a short visualisation, see the interactive plot below. We start with an imaginary channel cross-section that is very small, close to point A, such that the tidal difference in the estuary is smaller than the tidal range. Increasing the cross-section ($A_e$) results in an increase of the tidal prism ($P$) so large that $u_e$ increases too (recall eq. 9.5). At some point the tidal difference in the estuary is equal to the tidal range and we reach the peak of the closure curve. A larger cross-section now reduces $u_e$ as $P$ remains constant (again, recall eq. 9.5)."
   ]
  },
  {
   "cell_type": "markdown",
   "metadata": {},
   "source": [
    "```\n",
    "=> @DANIEL: Please insert the interactive plot in the codeblock below. You can find the figures necessary in the folder of this assignment. The idea is to simply display a figure using a slider widget. So in essence you shouldn't have to code anything to create the graphs of the figure, just display the right image when the slider is moved. I suggest to use ipywidgets, see https://github.com/jupyter-widgets/ipywidge\n",
    "ts#readme. Importing the package is done above. I got an error when importing the package because it wasn't installed in the environment. I installed it using Anaconda prompt, activating the environment and running 'pip install ipywidgets'.\n",
    "```"
   ]
  },
  {
   "cell_type": "markdown",
   "metadata": {},
   "source": [
    "## Option A: You can pass from one image to another outside the notebook"
   ]
  },
  {
   "cell_type": "code",
   "execution_count": 9,
   "metadata": {
    "tags": []
   },
   "outputs": [],
   "source": [
    "import tkinter as tk\n",
    "from PIL import ImageTk, Image\n",
    "\n",
    "\n",
    "class ImageSlider(tk.Frame):\n",
    "    def __init__(self, parent, images):\n",
    "        tk.Frame.__init__(self, parent)\n",
    "        self.images = images\n",
    "        self.current_image = 0\n",
    "        self.image_label = tk.Label(self)\n",
    "        self.image_label.pack()\n",
    "        self.update_image()\n",
    "        \n",
    "\n",
    "    def update_image(self):\n",
    "        image = Image.open(self.images[self.current_image])\n",
    "        image = image.resize((image.width, image.height), Image.LANCZOS)\n",
    "        global photo\n",
    "        photo = ImageTk.PhotoImage(image)\n",
    "        root.update()\n",
    "        self.image_label.configure(image=photo)\n",
    "\n",
    "    def next_image(self):\n",
    "        self.current_image = (self.current_image + 1) % len(self.images)\n",
    "        self.update_image()\n",
    "\n",
    "    def previous_image(self):\n",
    "        self.current_image = (self.current_image - 1) % len(self.images)\n",
    "        self.update_image()\n",
    "\n",
    "\n",
    "if __name__ == '__main__':\n",
    "    root = tk.Tk()\n",
    "    images = ['figures/04_Ch9_Escoffier_interactive_1.png', 'figures/04_Ch9_Escoffier_interactive_2.png',\n",
    "              'figures/04_Ch9_Escoffier_interactive_3.png', 'figures/04_Ch9_Escoffier_interactive_4.png']\n",
    "    image_slider = ImageSlider(root, images)\n",
    "    image_slider.pack()\n",
    "    next_button = tk.Button(root, text=\"Next\", command=image_slider.next_image)\n",
    "    next_button.pack(side=\"right\")\n",
    "    previous_button = tk.Button(root, text=\"Previous\", command=image_slider.previous_image)\n",
    "    previous_button.pack(side=\"left\")\n",
    "    root.mainloop()"
   ]
  },
  {
   "cell_type": "markdown",
   "metadata": {},
   "source": [
    "## Option B: Slider inside the jupyter notebook."
   ]
  },
  {
   "cell_type": "code",
   "execution_count": 8,
   "metadata": {
    "tags": []
   },
   "outputs": [
    {
     "data": {
      "application/vnd.jupyter.widget-view+json": {
       "model_id": "55343cf4037a4d1ea8803bb61e465ee0",
       "version_major": 2,
       "version_minor": 0
      },
      "text/plain": [
       "IntSlider(value=0, max=3)"
      ]
     },
     "metadata": {},
     "output_type": "display_data"
    },
    {
     "data": {
      "application/vnd.jupyter.widget-view+json": {
       "model_id": "9e050ad43fc14cab8d4a5a1ec1866fc6",
       "version_major": 2,
       "version_minor": 0
      },
      "text/plain": [
       "Image(value=b'\\x89PNG\\r\\n\\x1a\\n\\x00\\x00\\x00\\rIHDR\\x00\\x00\\x05\\x97\\x00\\x00\\x02 \\x08\\x02\\x00\\x00\\x00v\\xfa\\xc0\\x8…"
      ]
     },
     "metadata": {},
     "output_type": "display_data"
    }
   ],
   "source": [
    "import ipywidgets as widgets\n",
    "from IPython.display import display\n",
    "from PIL import Image\n",
    "\n",
    "# Load the images\n",
    "images = [\n",
    "    Image.open('figures/04_Ch9_Escoffier_interactive_1.png'),\n",
    "    Image.open('figures/04_Ch9_Escoffier_interactive_2.png'),\n",
    "    Image.open('figures/04_Ch9_Escoffier_interactive_3.png'),\n",
    "    Image.open('figures/04_Ch9_Escoffier_interactive_4.png')\n",
    "]\n",
    "\n",
    "# Create the slider widget\n",
    "slider = widgets.IntSlider(min=0, max=len(images)-1, step=1, value=0)\n",
    "\n",
    "# Display the current image\n",
    "image_widget = widgets.Image(value=images[slider.value]._repr_png_(), format='png')\n",
    "\n",
    "# Define the update function\n",
    "def update_image(change):\n",
    "    image_widget.value = images[change.new]._repr_png_()\n",
    "\n",
    "# Attach the update function to the slider\n",
    "slider.observe(update_image, names='value')\n",
    "\n",
    "# Display the widgets\n",
    "display(slider)\n",
    "display(image_widget)"
   ]
  },
  {
   "cell_type": "code",
   "execution_count": null,
   "metadata": {},
   "outputs": [],
   "source": []
  },
  {
   "cell_type": "markdown",
   "metadata": {},
   "source": [
    "The next step is to determine an equilibrium channel velocity $u_{eq}$ below which no erosion of the channel occurs. This velocity is only slightly dependent on the cross-section and can be approximated as just a function of sediment size. Larger sediment size leads to a larger $u_{eq}$ and vice versa.\n",
    "\n",
    "The closure curve and a value for u_eq leads to the well-known Escoffier curve as depicted in Figure 9.22 in the book.\n",
    "\n",
    "\n",
    "![](./figures/04_Ch9_Escoffier_type_1.png)\n",
    "```\n",
    "=> @DANIEL: Insert image \"Escoffier_curve_typical.png\"\n",
    "```\n"
   ]
  },
  {
   "cell_type": "markdown",
   "metadata": {},
   "source": [
    "## 2. Questions\n",
    "\n",
    "Now that you know how an Escoffier curve is created and some of the physical processes behind it, it's time to test your understanding. Try to answer the questions below and give your answers in the corresponding codeblock. Run the codeblock to validate your answers and view your feedback."
   ]
  },
  {
   "cell_type": "markdown",
   "metadata": {},
   "source": [
    "### Channel stability\n",
    "\n",
    "Consider the Escoffier curve below with points A, B, C, D and E. What happens to the channel cross-section ($X$) at locations 1, 2, 3, 4 and 5? Where does it move to, point A, B, C, D, E or neither (N)? ):\n",
    "```\n",
    "=> @DANIEL: Insert image \"Escoffier_curve_Qstability.png\"\n",
    "```\n",
    "\n",
    "![put fig title/label here](./figures/04_Ch9_Escoffier_stability_1.png)"
   ]
  },
  {
   "cell_type": "markdown",
   "metadata": {},
   "source": [
    "Put your answers here:\n",
    "\n",
    "```\n",
    "=> @DANIEL: Can you code the processing of the answers? Students give their answers below and run the block. Depending on their answer (correct or incorrect) they get to see a message. If correct something like \"That is correct!\". If incorrect each question should have some specific feedback, or if we want more detailed feedback each incorrect answer has some specific feedback. Feedback text is provided at the bottom of the notebook.\n",
    "```"
   ]
  },
  {
   "cell_type": "code",
   "execution_count": 4,
   "metadata": {
    "nbgrader": {
     "grade": true,
     "grade_id": "cell-01496058bec596fd",
     "locked": true,
     "points": 5,
     "schema_version": 3,
     "solution": false,
     "task": false
    },
    "tags": []
   },
   "outputs": [
    {
     "name": "stdout",
     "output_type": "stream",
     "text": [
      "Answer 1: \t Well done!\n",
      "Answer 2: \t Well done!\n",
      "Answer 3: \t Well done!\n",
      "Answer 4: \t Well done!\n",
      "Answer 5: \t Well done!\n",
      "Nice! You have understood this topic\n"
     ]
    }
   ],
   "source": [
    "ans0 = 'N'  # Example answer\n",
    "\n",
    "ans1 = 'A'  # Your answer for point 1\n",
    "ans2 = 'C'  # Your answer for point 2\n",
    "ans3 = 'D'  # Your answer for point 3\n",
    "ans4 = 'D'  # Your answer for point 4\n",
    "ans5 = 'D'  # Your answer for point 5\n",
    "\n",
    "Check1(ans1,ans2,ans3,ans4,ans5) # Example function to run to validate answers"
   ]
  },
  {
   "cell_type": "markdown",
   "metadata": {},
   "source": [
    "### Escoffier curve \"types\"\n",
    "\n",
    "Below three Escoffier curves are shown. So far we have only considered the scenario where $u_{eq}$ is lower than point C (scenario I). However, two other scenarios can also exist: II where point C coincides with $u_{eq}$ and III where point C is below $u_{eq}$. Similar to the previous question, what happens now at locations 1 and 2 for scenarios II and III?\n",
    "\n",
    "![](./figures/04_Ch9_Escoffier_type_1.png)\n",
    "\n",
    "![](./figures/04_Ch9_Escoffier_type_2.png)\n",
    "\n",
    "![](./figures/04_Ch9_Escoffier_type_3.png)\n",
    "\n",
    "```\n",
    "=> @DANIEL: Insert image \"Escoffier_curve_Qtypes.png\"\n",
    "```"
   ]
  },
  {
   "cell_type": "markdown",
   "metadata": {},
   "source": [
    "Put your answers here:"
   ]
  },
  {
   "cell_type": "code",
   "execution_count": 3,
   "metadata": {
    "tags": []
   },
   "outputs": [
    {
     "name": "stdout",
     "output_type": "stream",
     "text": [
      "Answer 1: \t Ops! The answer is incorrect.\n",
      "Answer 2: \t Ops! The answer is incorrect.\n",
      "Answer 3: \t Ops! The answer is incorrect.\n",
      "Answer 4: \t Ops! The answer is incorrect.\n",
      "Mmm... I think you should check the section about this topic again.\n"
     ]
    }
   ],
   "source": [
    "ansII_1  = 'C'  # Your answer for point 1 scenario II\n",
    "ansII_2  = 'A'  # Your answer for point 2 scenario II\n",
    "ansIII_1 = 'A'  # Your answer for point 1 scenario III\n",
    "ansIII_2 = 'A'  # Your answer for point 2 scenario III\n",
    "\n",
    "Check2(ansII_1,ansII_2,ansIII_1,ansIII_2) # Example function to run to validate answers"
   ]
  },
  {
   "cell_type": "markdown",
   "metadata": {},
   "source": [
    "### Theory\n",
    "\n",
    "Answer the questions below and explain your reasoning.\n",
    "1. What would happen if $X$ becomes really large?\n",
    "2. Can $X$ go to inifinity?\n",
    "3. How can you modify the Escoffier curve through engineering?\n",
    "4. Can the (closure) curve vary in Time?"
   ]
  },
  {
   "cell_type": "code",
   "execution_count": 9,
   "metadata": {
    "execution": {
     "iopub.execute_input": "2023-02-16T11:00:12.947867Z",
     "iopub.status.busy": "2023-02-16T11:00:12.947465Z",
     "iopub.status.idle": "2023-02-16T11:00:12.951698Z",
     "shell.execute_reply": "2023-02-16T11:00:12.950837Z",
     "shell.execute_reply.started": "2023-02-16T11:00:12.947842Z"
    }
   },
   "outputs": [],
   "source": [
    "#Check3() # Example function to run to validate answers"
   ]
  },
  {
   "cell_type": "code",
   "execution_count": null,
   "metadata": {},
   "outputs": [],
   "source": []
  },
  {
   "cell_type": "code",
   "execution_count": null,
   "metadata": {},
   "outputs": [],
   "source": []
  },
  {
   "cell_type": "markdown",
   "metadata": {},
   "source": [
    "## TODO: \n",
    "\n",
    "Fucntions are now being called before they are defined. You could also consider to \"hide\" them in the source directory and import them using `from hidden` import check1, check2 etc. Where hidden is refers to `CoastalCodeBook/src/hidden.py` I just added this functionality and to hide it a bit more I did an asterix import instead of importing the functions (but this is really bad practice and should be avoided). I think that providing students feedback on their answers should be implementing using [nbgrader](https://github.com/jupyter/nbgrader), which started at the UvA Amsterdam, but is apparently being included in the Jupyter project. "
   ]
  },
  {
   "cell_type": "code",
   "execution_count": 10,
   "metadata": {
    "execution": {
     "iopub.execute_input": "2023-02-16T11:00:18.123802Z",
     "iopub.status.busy": "2023-02-16T11:00:18.123394Z",
     "iopub.status.idle": "2023-02-16T11:00:18.140480Z",
     "shell.execute_reply": "2023-02-16T11:00:18.139381Z",
     "shell.execute_reply.started": "2023-02-16T11:00:18.123773Z"
    },
    "tags": [
     "remove-cell"
    ]
   },
   "outputs": [],
   "source": [
    "#This is a test cell that should not be displayed because it has the tag \"remove-cell\".\n",
    "#\n",
    "#@DANIEL: Put your code for the questions here\n",
    "\n",
    "# Function for cheking the first exercise:\n",
    "def Check1(ans1,ans2,ans3,ans4,ans5):\n",
    "    c=0\n",
    "    # Checking answer 1:\n",
    "    if ans1=='A':\n",
    "        c=c+1\n",
    "        print('Answer 1: \\t Well done!')\n",
    "    if ans1!='A': print('Answer 1: \\t Ops! The answer is incorrect.')\n",
    "\n",
    "    # Checking answer 2:\n",
    "    if ans2=='C':\n",
    "        c=c+1\n",
    "        print('Answer 2: \\t Well done!')\n",
    "    if ans2!='C': print('Answer 2: \\t Ops! The answer is incorrect.')\n",
    "\n",
    "    # Checking answer 3:\n",
    "    if ans3=='D':\n",
    "        c=c+1\n",
    "        print('Answer 3: \\t Well done!')\n",
    "    if ans3!='D': print('Answer 3: \\t Ops! The answer is incorrect.')\n",
    "\n",
    "    # Checking answer 4:\n",
    "    if ans4=='D':\n",
    "        c=c+1\n",
    "        print('Answer 4: \\t Well done!')\n",
    "    if ans4!='D': print('Answer 4: \\t Ops! The answer is incorrect.')\n",
    "\n",
    "    # Checking answer 5:\n",
    "    if ans5=='D':\n",
    "        c=c+1\n",
    "        print('Answer 5: \\t Well done!')\n",
    "    if ans5!='D': print('Answer 5: \\t Ops! The answer is incorrect.')\n",
    "\n",
    "    if c==5: print('Nice! You have understood this topic')\n",
    "    if c==0: print('Mmm... I think you should check the section about this topic again.')\n",
    "\n",
    "# Function for cheking the second exercise:\n",
    "def Check2(ans1,ans2,ans3,ans4):\n",
    "    c=0\n",
    "    # Checking answer 1:\n",
    "    if ans1=='A':\n",
    "        c=c+1\n",
    "        print('Answer 1: \\t Well done!')\n",
    "    if ans1!='A': print('Answer 1: \\t Ops! The answer is incorrect.')\n",
    "\n",
    "    # Checking answer 2:\n",
    "    if ans2=='C':\n",
    "        c=c+1\n",
    "        print('Answer 2: \\t Well done!')\n",
    "    if ans2!='C': print('Answer 2: \\t Ops! The answer is incorrect.')\n",
    "\n",
    "    # Checking answer 3:\n",
    "    if ans3=='D':\n",
    "        c=c+1\n",
    "        print('Answer 3: \\t Well done!')\n",
    "    if ans3!='D': print('Answer 3: \\t Ops! The answer is incorrect.')\n",
    "\n",
    "    # Checking answer 4:\n",
    "    if ans4=='D':\n",
    "        c=c+1\n",
    "        print('Answer 4: \\t Well done!')\n",
    "    if ans4!='D': print('Answer 4: \\t Ops! The answer is incorrect.')\n",
    "\n",
    "    if c==4: print('Nice! You have understood this topic')\n",
    "    if c==0: print('Mmm... I think you should check the section about this topic again.')\n",
    "\n",
    "# Function for cheking the third exercise:\n",
    "def Check3(ans1,ans2,ans3,ans4):\n",
    "    c=0\n",
    "    # Checking answer 1:\n",
    "    if ans1=='A':\n",
    "        c=c+1\n",
    "        print('Answer 1: \\t Well done!')\n",
    "    if ans1!='A': print('Answer 1: \\t Ops! The answer is incorrect.')\n",
    "\n",
    "    # Checking answer 2:\n",
    "    if ans2=='C':\n",
    "        c=c+1\n",
    "        print('Answer 2: \\t Well done!')\n",
    "    if ans2!='C': print('Answer 2: \\t Ops! The answer is incorrect.')\n",
    "\n",
    "    # Checking answer 3:\n",
    "    if ans3=='D':\n",
    "        c=c+1\n",
    "        print('Answer 3: \\t Well done!')\n",
    "    if ans3!='D': print('Answer 3: \\t Ops! The answer is incorrect.')\n",
    "\n",
    "    # Checking answer 4:\n",
    "    if ans4=='D':\n",
    "        c=c+1\n",
    "        print('Answer 4: \\t Well done!')\n",
    "    if ans4!='D': print('Answer 4: \\t Ops! The answer is incorrect.')\n",
    "\n",
    "    if c==4: print('Nice! You have understood this topic')\n",
    "    if c==0: print('Mmm... I think you should check the section about this topic again.')\n"
   ]
  },
  {
   "cell_type": "code",
   "execution_count": 11,
   "metadata": {
    "execution": {
     "iopub.execute_input": "2023-02-16T11:00:19.188504Z",
     "iopub.status.busy": "2023-02-16T11:00:19.188063Z",
     "iopub.status.idle": "2023-02-16T11:00:19.197200Z",
     "shell.execute_reply": "2023-02-16T11:00:19.196390Z",
     "shell.execute_reply.started": "2023-02-16T11:00:19.188476Z"
    }
   },
   "outputs": [],
   "source": [
    "# Function for cheking the third exercise:\n",
    "def Check3(ans1,ans2,ans3,ans4):\n",
    "    c=0\n",
    "    # Checking answer 1:\n",
    "    if ans1=='A':\n",
    "        c=c+1\n",
    "        print('Answer 1: \\t Well done!')\n",
    "    if ans1!='A': print('Answer 1: \\t Ops! The answer is incorrect.')\n",
    "\n",
    "    # Checking answer 2:\n",
    "    if ans2=='C':\n",
    "        c=c+1\n",
    "        print('Answer 2: \\t Well done!')\n",
    "    if ans2!='C': print('Answer 2: \\t Ops! The answer is incorrect.')\n",
    "\n",
    "    # Checking answer 3:\n",
    "    if ans3=='D':\n",
    "        c=c+1\n",
    "        print('Answer 3: \\t Well done!')\n",
    "    if ans3!='D': print('Answer 3: \\t Ops! The answer is incorrect.')\n",
    "\n",
    "    # Checking answer 4:\n",
    "    if ans4=='D':\n",
    "        c=c+1\n",
    "        print('Answer 4: \\t Well done!')\n",
    "    if ans4!='D': print('Answer 4: \\t Ops! The answer is incorrect.')\n",
    "\n",
    "    if c==4: print('Nice! You have understood this topic')\n",
    "    if c==0: print('Mmm... I think you should check the section about this topic again.')\n",
    "\n"
   ]
  },
  {
   "cell_type": "code",
   "execution_count": null,
   "metadata": {},
   "outputs": [],
   "source": []
  }
 ],
 "metadata": {
  "kernelspec": {
   "display_name": "Python [conda env:coastal]",
   "language": "python",
   "name": "conda-env-coastal-py"
  },
  "language_info": {
   "codemirror_mode": {
    "name": "ipython",
    "version": 3
   },
   "file_extension": ".py",
   "mimetype": "text/x-python",
   "name": "python",
   "nbconvert_exporter": "python",
   "pygments_lexer": "ipython3",
   "version": "3.10.8"
  },
  "vscode": {
   "interpreter": {
    "hash": "552d26e24a5f022569f992dc6162a1ddcd276bc02983bfb314c82a5eb02cca6e"
   }
  },
  "widgets": {
   "application/vnd.jupyter.widget-state+json": {
    "state": {},
    "version_major": 2,
    "version_minor": 0
   }
  }
 },
 "nbformat": 4,
 "nbformat_minor": 4
}
